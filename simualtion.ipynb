{
  "nbformat": 4,
  "nbformat_minor": 0,
  "metadata": {
    "colab": {
      "name": "simualtion.ipynb",
      "provenance": [],
      "authorship_tag": "ABX9TyPxOMqB0/5BicB84iqEzr2W",
      "include_colab_link": true
    },
    "kernelspec": {
      "name": "python3",
      "display_name": "Python 3"
    },
    "language_info": {
      "name": "python"
    }
  },
  "cells": [
    {
      "cell_type": "markdown",
      "metadata": {
        "id": "view-in-github",
        "colab_type": "text"
      },
      "source": [
        "<a href=\"https://colab.research.google.com/github/minjun5470/webscraping/blob/main/simualtion.ipynb\" target=\"_parent\"><img src=\"https://colab.research.google.com/assets/colab-badge.svg\" alt=\"Open In Colab\"/></a>"
      ]
    },
    {
      "cell_type": "code",
      "execution_count": null,
      "metadata": {
        "colab": {
          "base_uri": "https://localhost:8080/"
        },
        "id": "ITEiGuPkcJGj",
        "outputId": "8007ac91-43fc-433d-f481-576138335dea"
      },
      "outputs": [
        {
          "output_type": "stream",
          "name": "stdout",
          "text": [
            "D D U U U R R L L L R R\n",
            "1 3\n"
          ]
        }
      ],
      "source": [
        "plans=input().split()\n",
        "x,y=1,1\n",
        "\n",
        "dx=[0,0,-1,1]\n",
        "dy=[-1,1,0,0]\n",
        "move_types=[\"L\",\"R\",\"U\",\"D\"]\n",
        "\n",
        "for plan in plans:\n",
        "    for i in range(len(move_types)):\n",
        "        if plan==move_types[i]:\n",
        "            x=x+dx[i]\n",
        "            y=y+dy[i]            \n",
        "            if x<=0:\n",
        "                x=1      #=:할당연산자, ==:비교연산자(True or False)\n",
        "            elif y<=0:\n",
        "                y=1\n",
        "print(x,y)            \n",
        "\n",
        "\n",
        "#nx=x+dx[i]\n",
        "#ny=y+dy[i]\n",
        "#if nx<1 or ny<1 or nx>n or ny>n:\n",
        "#   continue\n",
        "#x,y=nx,ny\n",
        "\n",
        "\n",
        "    \n",
        "\n",
        "\n",
        "\n"
      ]
    }
  ]
}