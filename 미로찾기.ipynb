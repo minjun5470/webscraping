{
  "nbformat": 4,
  "nbformat_minor": 0,
  "metadata": {
    "colab": {
      "name": "미로찾기.ipynb",
      "provenance": [],
      "collapsed_sections": [],
      "authorship_tag": "ABX9TyNHzrmxoN4GL5qhJrOMDHiR",
      "include_colab_link": true
    },
    "kernelspec": {
      "name": "python3",
      "display_name": "Python 3"
    },
    "language_info": {
      "name": "python"
    }
  },
  "cells": [
    {
      "cell_type": "markdown",
      "metadata": {
        "id": "view-in-github",
        "colab_type": "text"
      },
      "source": [
        "<a href=\"https://colab.research.google.com/github/minjun5470/webscraping/blob/main/%EB%AF%B8%EB%A1%9C%EC%B0%BE%EA%B8%B0.ipynb\" target=\"_parent\"><img src=\"https://colab.research.google.com/assets/colab-badge.svg\" alt=\"Open In Colab\"/></a>"
      ]
    },
    {
      "cell_type": "code",
      "execution_count": 10,
      "metadata": {
        "colab": {
          "base_uri": "https://localhost:8080/"
        },
        "id": "ttgcG7SJ5EEi",
        "outputId": "521a668c-e3a6-4c32-85f2-2b81bb727e49"
      },
      "outputs": [
        {
          "output_type": "execute_result",
          "data": {
            "text/plain": [
              "10"
            ]
          },
          "metadata": {},
          "execution_count": 10
        }
      ],
      "source": [
        "from collections import deque #BFS\n",
        "\n",
        "n,m=5,6\n",
        "graph=[[1,0,1,0,1,0],\n",
        "       [1,1,1,1,1,1],\n",
        "       [0,0,0,0,0,1],\n",
        "       [1,1,1,1,1,1],\n",
        "       [1,1,1,1,1,1]]\n",
        "\n",
        "dx=[-1,1,0,0]   #상하좌우\n",
        "dy=[0,0,-1,1]\n",
        "\n",
        "bfs(0,0)"
      ]
    },
    {
      "cell_type": "code",
      "source": [
        "def bfs(x,y):\n",
        "    queue=deque()   #queue를 위해 deque 라이브러리를 사용\n",
        "    queue.append((x,y))\n",
        "    while queue:\n",
        "        x,y=queue.popleft() #FIFO\n",
        "        for i in range(4):\n",
        "            nx=x+dx[i]\n",
        "            ny=y+dy[i]\n",
        "            if nx==0 and ny==0:\n",
        "                continue\n",
        "            if nx<0 or nx>=n or ny<0 or ny>=m:\n",
        "                continue\n",
        "            if graph[nx][ny]==0:\n",
        "                continue\n",
        "            if graph[nx][ny]==1:\n",
        "                graph[nx][ny]=graph[x][y]+1\n",
        "                queue.append((nx,ny))\n",
        "    return graph[n-1][m-1]"
      ],
      "metadata": {
        "id": "1lMVjzbuK6YN"
      },
      "execution_count": 9,
      "outputs": []
    }
  ]
}