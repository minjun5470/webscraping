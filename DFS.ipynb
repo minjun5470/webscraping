{
  "nbformat": 4,
  "nbformat_minor": 0,
  "metadata": {
    "colab": {
      "name": "DFS.ipynb",
      "provenance": [],
      "collapsed_sections": [],
      "authorship_tag": "ABX9TyO/IfvY8rUPZwo15NRt1B9s",
      "include_colab_link": true
    },
    "kernelspec": {
      "name": "python3",
      "display_name": "Python 3"
    },
    "language_info": {
      "name": "python"
    }
  },
  "cells": [
    {
      "cell_type": "markdown",
      "metadata": {
        "id": "view-in-github",
        "colab_type": "text"
      },
      "source": [
        "<a href=\"https://colab.research.google.com/github/minjun5470/webscraping/blob/main/DFS.ipynb\" target=\"_parent\"><img src=\"https://colab.research.google.com/assets/colab-badge.svg\" alt=\"Open In Colab\"/></a>"
      ]
    },
    {
      "cell_type": "code",
      "execution_count": 41,
      "metadata": {
        "colab": {
          "base_uri": "https://localhost:8080/"
        },
        "id": "LkVNshAAjOfM",
        "outputId": "7ce13331-4998-43dc-ecc0-beaec7fcd13a"
      },
      "outputs": [
        {
          "output_type": "stream",
          "name": "stdout",
          "text": [
            "3\n"
          ]
        }
      ],
      "source": [
        "#2차원 리스트==>행렬처럼 사용할 수 있다\n",
        "#각각의 index가 하나의 row가 됨\n",
        "#불러올때는 name[row][col]\n",
        "\n",
        "def dfs(x,y):\n",
        "    if x<=-1or x>=n or y<=-1 or y>=n:\n",
        "        return False\n",
        "    if graph[x][y]==0:\n",
        "        graph[x][y]=1 # 자신과 인접한 모든 수들을 1로 바꿔준다.\n",
        "        dfs(x-1,y)\n",
        "        dfs(x,y-1)\n",
        "        dfs(x,y+1)\n",
        "        dfs(x+1,y)\n",
        "        return True\n",
        "    return False\n",
        "\n",
        "\n",
        "n,m=4,5\n",
        "\n",
        "graph=[[0,1,1,0,0],\n",
        "       [0,1,0,0,0],\n",
        "       [1,1,1,1,0],\n",
        "       [0,1,1,1,1]]\n",
        "result=0\n",
        "for i in range(n):\n",
        "    for j in range(m):\n",
        "        if dfs(i,j)==True:\n",
        "            result+=1\n",
        "print(result)"
      ]
    }
  ]
}