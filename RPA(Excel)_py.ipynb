{
  "nbformat": 4,
  "nbformat_minor": 0,
  "metadata": {
    "colab": {
      "name": "RPA(Excel).py.ipynb",
      "provenance": [],
      "collapsed_sections": [],
      "authorship_tag": "ABX9TyNJTq4+MKopB3ro3yFWtDwQ",
      "include_colab_link": true
    },
    "kernelspec": {
      "name": "python3",
      "display_name": "Python 3"
    },
    "language_info": {
      "name": "python"
    }
  },
  "cells": [
    {
      "cell_type": "markdown",
      "metadata": {
        "id": "view-in-github",
        "colab_type": "text"
      },
      "source": [
        "<a href=\"https://colab.research.google.com/github/minjun5470/webscraping/blob/main/RPA(Excel)_py.ipynb\" target=\"_parent\"><img src=\"https://colab.research.google.com/assets/colab-badge.svg\" alt=\"Open In Colab\"/></a>"
      ]
    },
    {
      "cell_type": "code",
      "execution_count": null,
      "metadata": {
        "id": "Y25c9iWNvQER"
      },
      "outputs": [],
      "source": [
        "from openpyxl import Workbook\n",
        "wb=Workbook()\n",
        "ws=wb.active\n",
        "\n",
        "#데이터를 넣기\n",
        "ws.append((\"학번\",\"출석\",\"퀴즈1\",\"퀴즈2\",\"중간고사\",\"기말고사\",\"프로젝트\"))\n",
        "scores=[\n",
        "(1,10,8,5,14,26,12),\n",
        "(2,7,3,7,15,24,18),\n",
        "(3,9,5,8,8,12,4),\n",
        "(4,7,8,7,17,21,18),\n",
        "(5,7,8,7,16,25,15),\n",
        "(6,3,5,8,8,17,0),\n",
        "(7,4,9,10,16,27,18),\n",
        "(8,6,6,6,15,19,17),\n",
        "(9,10,10,9,19,30,19),\n",
        "(10,9,8,8,20,25,20)]\n",
        "\n",
        "#기존 성적 데이터 넣기\n",
        "for s in scores:\n",
        "    ws.append(s)\n",
        "\n",
        "\n",
        "\n",
        "#퀴즈 2성적 10점으로 변경\n",
        "for idx,cell in enumerate(ws[\"D\"]): #enumerate은 순서와 element로 이뤄짐\n",
        "    if idx==0:\n",
        "        continue\n",
        "    cell.value=10\n",
        "\n",
        "#H열에 총점, I열에 성적정보추가\n",
        "ws.insert_cols(8,2)\n",
        "ws[\"H1\"]=\"총점\"\n",
        "ws[\"I1\"]=\"성적\"\n",
        "\n",
        "for idx,score in enumerate(scores,start=2):\n",
        "    sum_val=sum(score[1:])-score[3]+10 #score에는 변경 전 데이터\n",
        "    ws.cell(row=idx,column=8).value=\"=sum(B{}:G{})\".format(idx,idx) #ws.cell.value에는 변경된 데이터가 반영\n",
        "#성적 배분\n",
        "    grade=None\n",
        "    if sum_val>90:\n",
        "        grade=\"A\"\n",
        "    elif sum_val>80:\n",
        "        grade=\"B\"\n",
        "    elif sum_val>70:\n",
        "        grade=\"C\"\n",
        "    else:\n",
        "        grade=\"D\"\n",
        "\n",
        "    if score[1]<5:\n",
        "        grade=\"F\"\n",
        "\n",
        "    ws.cell(row=idx,column=9).value=grade\n",
        "\n",
        "\n",
        "\n",
        "\n",
        "wb.save(\"scores.xlsx\")\n",
        "\n",
        "\n",
        "\n"
      ]
    }
  ]
}