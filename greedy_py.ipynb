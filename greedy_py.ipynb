{
  "nbformat": 4,
  "nbformat_minor": 0,
  "metadata": {
    "colab": {
      "name": "greedy.py.ipynb",
      "provenance": [],
      "collapsed_sections": [],
      "authorship_tag": "ABX9TyMqNAkYB99l5Ks+sTd27zg6",
      "include_colab_link": true
    },
    "kernelspec": {
      "name": "python3",
      "display_name": "Python 3"
    },
    "language_info": {
      "name": "python"
    }
  },
  "cells": [
    {
      "cell_type": "markdown",
      "metadata": {
        "id": "view-in-github",
        "colab_type": "text"
      },
      "source": [
        "<a href=\"https://colab.research.google.com/github/minjun5470/webscraping/blob/main/greedy_py.ipynb\" target=\"_parent\"><img src=\"https://colab.research.google.com/assets/colab-badge.svg\" alt=\"Open In Colab\"/></a>"
      ]
    },
    {
      "cell_type": "code",
      "execution_count": null,
      "metadata": {
        "colab": {
          "base_uri": "https://localhost:8080/"
        },
        "id": "Gr06N81RGZ4y",
        "outputId": "89c8863f-9bf3-4b7e-c240-4fd5862d1615"
      },
      "outputs": [
        {
          "output_type": "stream",
          "name": "stdout",
          "text": [
            "6\n"
          ]
        }
      ],
      "source": [
        "#greedy.me\n",
        "n,k=map(int,input().split())\n",
        "cnt=0\n",
        "while n!=1:\n",
        "    if n%k==0:\n",
        "        cnt+=1\n",
        "        n//=k\n",
        "    else:\n",
        "        cnt+=1\n",
        "        n-=1\n",
        "print(cnt)\n",
        "\n",
        "#greedy.other\n",
        "n,k=map(int,input().split())\n",
        "result=0\n",
        "while True:\n",
        "    target=(n//k)*k #나눠지는 수 파악\n",
        "    result+=(n-target) #1을 차감해야하는 횟수 파악\n",
        "    n=target\n",
        "    if n<k:\n",
        "        break\n",
        "    n//=k\n",
        "    result+=1\n",
        "\n",
        "result+=(n-1)\n",
        "print(result)\n",
        "\n",
        "\n"
      ]
    }
  ]
}