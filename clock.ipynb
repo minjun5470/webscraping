{
  "nbformat": 4,
  "nbformat_minor": 0,
  "metadata": {
    "colab": {
      "name": "clock.ipynb",
      "provenance": [],
      "authorship_tag": "ABX9TyPCxKUJ1ljgABxAy6vOV4Kh",
      "include_colab_link": true
    },
    "kernelspec": {
      "name": "python3",
      "display_name": "Python 3"
    },
    "language_info": {
      "name": "python"
    }
  },
  "cells": [
    {
      "cell_type": "markdown",
      "metadata": {
        "id": "view-in-github",
        "colab_type": "text"
      },
      "source": [
        "<a href=\"https://colab.research.google.com/github/minjun5470/webscraping/blob/main/clock.ipynb\" target=\"_parent\"><img src=\"https://colab.research.google.com/assets/colab-badge.svg\" alt=\"Open In Colab\"/></a>"
      ]
    },
    {
      "cell_type": "code",
      "execution_count": null,
      "metadata": {
        "colab": {
          "base_uri": "https://localhost:8080/"
        },
        "id": "hyJgNfCSKxPW",
        "outputId": "d38f8546-3a10-4d53-b9f0-b52bea51d65f"
      },
      "outputs": [
        {
          "output_type": "stream",
          "name": "stdout",
          "text": [
            "5\n",
            "11475\n"
          ]
        }
      ],
      "source": [
        "n=int(input())\n",
        "cnt=0\n",
        "\n",
        "for i in range(n+1):\n",
        "    for m in range(60):\n",
        "        for s in range(60):\n",
        "            if \"3\" in str(i)+str(m)+str(s):\n",
        "                cnt+=1\n",
        "print(cnt)\n"
      ]
    }
  ]
}