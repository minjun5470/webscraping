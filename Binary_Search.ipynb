{
  "nbformat": 4,
  "nbformat_minor": 0,
  "metadata": {
    "colab": {
      "name": "Binary Search.ipynb",
      "provenance": [],
      "collapsed_sections": [],
      "authorship_tag": "ABX9TyNxc9oU0QZNId0KrYYYxP7h",
      "include_colab_link": true
    },
    "kernelspec": {
      "name": "python3",
      "display_name": "Python 3"
    },
    "language_info": {
      "name": "python"
    }
  },
  "cells": [
    {
      "cell_type": "markdown",
      "metadata": {
        "id": "view-in-github",
        "colab_type": "text"
      },
      "source": [
        "<a href=\"https://colab.research.google.com/github/minjun5470/webscraping/blob/main/Binary_Search.ipynb\" target=\"_parent\"><img src=\"https://colab.research.google.com/assets/colab-badge.svg\" alt=\"Open In Colab\"/></a>"
      ]
    },
    {
      "cell_type": "code",
      "execution_count": null,
      "metadata": {
        "id": "sxJtHftFVLe5",
        "colab": {
          "base_uri": "https://localhost:8080/"
        },
        "outputId": "f2525e6b-56e0-4748-b15e-909da7b51077"
      },
      "outputs": [
        {
          "output_type": "execute_result",
          "data": {
            "text/plain": [
              "14"
            ]
          },
          "metadata": {},
          "execution_count": 1
        }
      ],
      "source": [
        "# 이진 탐색을 사용하지 않았을 때의 풀이\n",
        "n,m=4,9\n",
        "arr=[19,15,10,17]\n",
        "\n",
        "def cut_arr(m):\n",
        "    arr.sort()\n",
        "    result=0\n",
        "    for i in range(max(arr)+1):\n",
        "        for j in range(len(arr)):\n",
        "            if arr[j]-i>=0:\n",
        "                result+=arr[j]-i\n",
        "        if result==m:\n",
        "            return i\n",
        "        else:\n",
        "            result=0\n",
        "cut_arr(m)\n"
      ]
    },
    {
      "cell_type": "code",
      "source": [
        "#이진 탐색을 통한 풀이\n",
        "n,m=4,21\n",
        "arr=[19,15,10,17]\n",
        "\n",
        "start=0\n",
        "end=max(arr)\n",
        "def binary(start,end,m):\n",
        "    while (start<end):\n",
        "        total=0\n",
        "        mid=(start+end)//2\n",
        "        for x in arr:\n",
        "            if x>mid:\n",
        "                total+=x-mid\n",
        "            else:\n",
        "                continue\n",
        "        if total>m:\n",
        "            start=mid\n",
        "            return binary(start,end,m)\n",
        "        elif total<m:\n",
        "            end=mid\n",
        "            return binary(start,end,m)\n",
        "        elif total==m:\n",
        "            return mid\n",
        "\n",
        "binary(start,end,m)\n",
        "\n",
        "\n"
      ],
      "metadata": {
        "colab": {
          "base_uri": "https://localhost:8080/"
        },
        "id": "3e_PEOWmxR37",
        "outputId": "21136882-b0e8-41ba-fe8d-b8e836ff3d1f"
      },
      "execution_count": null,
      "outputs": [
        {
          "output_type": "execute_result",
          "data": {
            "text/plain": [
              "10"
            ]
          },
          "metadata": {},
          "execution_count": 12
        }
      ]
    },
    {
      "cell_type": "markdown",
      "source": [
        "숫자의 개수 구하기"
      ],
      "metadata": {
        "id": "QTMbOwAv_cIE"
      }
    },
    {
      "cell_type": "code",
      "source": [
        "from bisect import bisect_left,bisect_right\n",
        "n,m=7,2\n",
        "arr=[1,1,2,2,2,2,3]\n",
        "l=bisect_left(arr,m)\n",
        "r=bisect_right(arr,m)\n",
        "print(r-l)"
      ],
      "metadata": {
        "colab": {
          "base_uri": "https://localhost:8080/"
        },
        "id": "H3tRQTAJ-EUy",
        "outputId": "e80024b3-ce75-4fca-fb46-3c48f4681124"
      },
      "execution_count": 17,
      "outputs": [
        {
          "output_type": "stream",
          "name": "stdout",
          "text": [
            "4\n"
          ]
        }
      ]
    }
  ]
}