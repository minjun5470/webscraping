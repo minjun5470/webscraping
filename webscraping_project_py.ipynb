{
  "nbformat": 4,
  "nbformat_minor": 0,
  "metadata": {
    "colab": {
      "name": "webscraping project.py.ipynb",
      "provenance": [],
      "collapsed_sections": [],
      "authorship_tag": "ABX9TyPuKn8YGuUNG0SxCk6aBrt/",
      "include_colab_link": true
    },
    "kernelspec": {
      "name": "python3",
      "display_name": "Python 3"
    },
    "language_info": {
      "name": "python"
    }
  },
  "cells": [
    {
      "cell_type": "markdown",
      "metadata": {
        "id": "view-in-github",
        "colab_type": "text"
      },
      "source": [
        "<a href=\"https://colab.research.google.com/github/minjun5470/webscraping/blob/main/webscraping_project_py.ipynb\" target=\"_parent\"><img src=\"https://colab.research.google.com/assets/colab-badge.svg\" alt=\"Open In Colab\"/></a>"
      ]
    },
    {
      "cell_type": "code",
      "execution_count": null,
      "metadata": {
        "colab": {
          "base_uri": "https://localhost:8080/",
          "height": 136
        },
        "id": "hBV_3UEOJQk-",
        "outputId": "9051e0cb-7f7f-4a07-a540-df7023bcec49"
      },
      "outputs": [
        {
          "output_type": "error",
          "ename": "SyntaxError",
          "evalue": "ignored",
          "traceback": [
            "\u001b[0;36m  File \u001b[0;32m\"<ipython-input-4-84d05ad910f1>\"\u001b[0;36m, line \u001b[0;32m40\u001b[0m\n\u001b[0;31m    e_news=soup.find(\"div\",attrs={\"class\":\"cluster_head\"}.find_all(\"\",limit=)\u001b[0m\n\u001b[0m                                                                            ^\u001b[0m\n\u001b[0;31mSyntaxError\u001b[0m\u001b[0;31m:\u001b[0m invalid syntax\n"
          ]
        }
      ],
      "source": [
        "#1.날씨 2.헤드라인 기사 3.해커스에서 매일 영어회화학습\n",
        "!pip install selenium\n",
        "\n",
        "import re\n",
        "import requests\n",
        "from bs4 import BeautifulSoup\n",
        "from selenium import webdriver\n",
        "from urllib.request import urlopen\n",
        "from bs4 import BeautifulSoup as bs\n",
        "from urllib.parse import quote_plus\n",
        "from selenium.webdriver.common.keys import Keys\n",
        "import time\n",
        "\n",
        "def create_soup(url):\n",
        "    headers={\"User-Agent\":\"Mozilla/5.0 (Windows NT 10.0; Win64; x64) AppleWebKit/537.36 (KHTML, like Gecko) Chrome/103.0.0.0 Safari/537.36\"}\n",
        "    res=requests.get(url,headers=headers)\n",
        "    res.raise_for_status()\n",
        "    soup=BeautifulSoup(res.text,\"lxml\")\n",
        "    return soup\n",
        "\n",
        "print(\"[오늘의 날씨]\")\n",
        "url=\"https://search.naver.com/search.naver?where=nexearch&sm=top_hty&fbm=1&ie=utf8&query=%EC%84%9C%EC%9A%B8+%EB%82%A0%EC%94%A8\"\n",
        "soup=create_soup(url)\n",
        "cast=soup.find(\"div\",attrs={\"class\":\"temperature_info\"})\n",
        "curr_temp=soup.find(\"div\",attrs={\"class\":\"temperature_text\"})\n",
        "   \n",
        "print(cast.get_text())\n",
        "print(curr_temp.get_text())\n",
        "\n",
        "print(\"[미세먼지]\")\n",
        "url=\"https://search.naver.com/search.naver?sm=tab_hty.top&where=nexearch&query=%EB%AF%B8%EC%84%B8%EB%A8%BC%EC%A7%80&oquery=%EB%82%A0%EC%94%A8&tqi=hWv8%2Flp0YidssE0sdXCssssssDh-069647\"\n",
        "soup=create_soup(url)\n",
        "pm=soup.find_all(\"tr\")[2]\n",
        "\n",
        "print(pm.get_text())\n",
        "\n",
        "#print(\"[헤드라인 뉴스-경제]\")\n",
        "#url=\"https://news.naver.com/main/main.naver?mode=LSD&mid=shm&sid1=101\"\n",
        "#soup=create_soup(url)\n",
        "#e_news=soup.find(\"div\",attrs={\"class\":\"cluster_head\"}.find_all(\"\",limit=)\n",
        "#for index,news in enumerate(e_news):\n",
        "#    title=news.find(\"\").get_text().strip()\n",
        "#    link=url+news.find(\"a\")[\"href\"]\n",
        "#    print(\"{}.{}\".format((index+1),title))\n",
        "#    print(\"링크:{}\",format(link))\n",
        "\n",
        "print(\"[영어회화]\")\n",
        "url=\"https://www.hackers.co.kr/?c=s_lec/lec_study/lec_I_others_english&keywd=haceng_submain_lnb_lec_I_others_english&logger_kw=haceng_submain_lnb_lec_I_others_english\"\n",
        "soup=create_soup(url)\n",
        "sentences=soup.find_all(\"div\",attrs={\"id\":re.compile(\"^conv_kor_t\")})\n",
        "print(\"영어 문장 가져오기\")\n",
        "for sentence in sentences[len(sentences)//2:]:\n",
        "    print(sentence.get_text().strip())\n",
        "\n",
        "for sentence in sentences[:len(sentences)//2]:\n",
        "    print(sentence.get_text().strip())\n",
        "\n",
        "\n",
        "\n",
        "\n",
        "\n",
        "\n",
        "\n",
        "\n",
        "\n",
        "\n",
        "\n"
      ]
    }
  ]
}