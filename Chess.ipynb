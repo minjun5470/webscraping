{
  "nbformat": 4,
  "nbformat_minor": 0,
  "metadata": {
    "colab": {
      "name": "Chess.ipynb",
      "provenance": [],
      "collapsed_sections": [],
      "authorship_tag": "ABX9TyNpJZvpKHdap1CTD+t5behE",
      "include_colab_link": true
    },
    "kernelspec": {
      "name": "python3",
      "display_name": "Python 3"
    },
    "language_info": {
      "name": "python"
    }
  },
  "cells": [
    {
      "cell_type": "markdown",
      "metadata": {
        "id": "view-in-github",
        "colab_type": "text"
      },
      "source": [
        "<a href=\"https://colab.research.google.com/github/minjun5470/webscraping/blob/main/Chess.ipynb\" target=\"_parent\"><img src=\"https://colab.research.google.com/assets/colab-badge.svg\" alt=\"Open In Colab\"/></a>"
      ]
    },
    {
      "cell_type": "code",
      "execution_count": null,
      "metadata": {
        "colab": {
          "base_uri": "https://localhost:8080/"
        },
        "id": "7hVdTjQ2RlXE",
        "outputId": "400bf90d-bfc7-4595-dcfa-93c7f5015539"
      },
      "outputs": [
        {
          "output_type": "stream",
          "name": "stdout",
          "text": [
            "a1\n",
            "2\n"
          ]
        }
      ],
      "source": [
        "input_data=input()\n",
        "row=int(input_data[1])\n",
        "column=int(ord(input_data[0]))-int(ord(\"a\"))+1         \n",
        "\n",
        "steps=[(-2,-1),(-2,1),(2,-1),(2,1),(-1,2),(-1,-2),(1,2),(1,-2)]\n",
        "\n",
        "result=0\n",
        "for step in steps:\n",
        "    next_row=row+step[0]\n",
        "    next_column=column+step[1]\n",
        "    if next_row>=1 and next_row<=8 and next_column>=1 and next_column<=8:\n",
        "        result+=1\n",
        "print(result)\n"
      ]
    }
  ]
}