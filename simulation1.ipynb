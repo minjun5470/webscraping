{
  "nbformat": 4,
  "nbformat_minor": 0,
  "metadata": {
    "colab": {
      "name": "simulation1.ipynb",
      "provenance": [],
      "collapsed_sections": [],
      "authorship_tag": "ABX9TyOe6/PBmnQWVNN5hMWgRR5+",
      "include_colab_link": true
    },
    "kernelspec": {
      "name": "python3",
      "display_name": "Python 3"
    },
    "language_info": {
      "name": "python"
    }
  },
  "cells": [
    {
      "cell_type": "markdown",
      "metadata": {
        "id": "view-in-github",
        "colab_type": "text"
      },
      "source": [
        "<a href=\"https://colab.research.google.com/github/minjun5470/webscraping/blob/main/simulation1.ipynb\" target=\"_parent\"><img src=\"https://colab.research.google.com/assets/colab-badge.svg\" alt=\"Open In Colab\"/></a>"
      ]
    },
    {
      "cell_type": "code",
      "execution_count": null,
      "metadata": {
        "colab": {
          "base_uri": "https://localhost:8080/"
        },
        "id": "XRrGScH6gzLa",
        "outputId": "afc504c5-a1ea-4369-cf79-3b81f275d91b"
      },
      "outputs": [
        {
          "output_type": "stream",
          "name": "stdout",
          "text": [
            "K1KA5CB7\n",
            "ABCKK13\n"
          ]
        }
      ],
      "source": [
        "#solution me\n",
        "\n",
        "data=input()\n",
        "s=[]\n",
        "n=0\n",
        "for i in range(len(data)):\n",
        "    if ord(data[i])>=65:\n",
        "        s.append(data[i])\n",
        "    else:\n",
        "        n+=int(data[i])\n",
        "s.sort()\n",
        "s.append(str(n))\n",
        "print(''.join(s))\n",
        "\n",
        "#solution another\n",
        "\n",
        "#for x in data:\n",
        "#   if x.isalpha():\n",
        "#       result.append(x)\n",
        "#   else:\n",
        "#       value+=int(x)\n",
        "\n",
        "\n",
        "\n"
      ]
    }
  ]
}